{
 "cells": [
  {
   "cell_type": "code",
   "execution_count": 20,
   "metadata": {},
   "outputs": [],
   "source": [
    "import torch\n",
    "import clip\n",
    "from PIL import Image\n",
    "import pandas as pd\n",
    "import faiss\n",
    "import numpy as np"
   ]
  },
  {
   "cell_type": "code",
   "execution_count": 23,
   "metadata": {},
   "outputs": [],
   "source": [
    "# Load the pre-trained CLIP model and its preprocessing pipeline\n",
    "device = \"cuda\" if torch.cuda.is_available() else \"cpu\"\n",
    "model, preprocess = clip.load(\"ViT-B/32\", device=device)"
   ]
  },
  {
   "cell_type": "code",
   "execution_count": null,
   "metadata": {},
   "outputs": [],
   "source": [
    "# process each of the images and then extract the embeddings from it\n",
    "def process_images(image_paths):\n",
    "    embeddings = []\n",
    "    for path in image_paths:\n",
    "        image = Image.open(path)\n",
    "\n",
    "        # preprocesses the image, adds another\n",
    "        image_input = preprocess(image).unsqueeze(0).to(device)\n",
    "\n",
    "        # we don't calcuate gradients when doing inference\n",
    "        with torch.no_grad():\n",
    "            embedding = model.encode_image(image_input)\n",
    "        embeddings.append(embedding)\n",
    "\n",
    "    img_embedding = torch.mean(torch.stack(embeddings), dim=0)\n",
    "    return img_embedding.cpu().numpy()"
   ]
  },
  {
   "cell_type": "code",
   "execution_count": 25,
   "metadata": {},
   "outputs": [],
   "source": [
    "# load the feature descriptions from data.csv\n",
    "def load_descriptions():\n",
    "    df = pd.read_csv('data.csv')\n",
    "    descriptions = df['description'].tolist()\n",
    "    return descriptions"
   ]
  },
  {
   "cell_type": "code",
   "execution_count": null,
   "metadata": {},
   "outputs": [],
   "source": [
    "def embed_descriptions(descriptions):\n",
    "    text_embeddings = []\n",
    "    for description in descriptions:\n",
    "        # tokenizes text and converts it into a tensor suitable for the model\n",
    "        text_input = clip.tokenize(description).to(device)\n",
    "        with torch.no_grad():\n",
    "            # generate the text embedding\n",
    "            text_embedding = model.encode_text(text_input)\n",
    "\n",
    "        # converts the tensor to a numpy array for ease of use\n",
    "        text_embeddings.append(text_embedding.cpu().numpy())\n",
    "\n",
    "    # convert text embeddings to a numpy array\n",
    "    text_embeddings = np.vstack(text_embeddings)\n",
    "    return text_embeddings "
   ]
  },
  {
   "cell_type": "code",
   "execution_count": null,
   "metadata": {},
   "outputs": [],
   "source": [
    "# finds the nearest neighbor of the image embedding in the text embeddings\n",
    "def find_and_search_nn(img_embedding, text_embeddings):\n",
    "\n",
    "    # index uses L2 (euclidean distance) with the dimension of the text embeddings\n",
    "    index = faiss.IndexFlatL2(text_embeddings.shape[1])\n",
    "    index.add(text_embeddings)\n",
    "\n",
    "    # Search for the nearest neighbor\n",
    "    # D is 2D Numpy Array of the distance of the nearest neighbors\n",
    "    # I is 2D Numpy Array containing indices of the K nearest neighbors for the N query image embeddings\n",
    "    D, I = index.search(img_embedding, 1)\n",
    "    return I"
   ]
  },
  {
   "cell_type": "code",
   "execution_count": null,
   "metadata": {},
   "outputs": [],
   "source": [
    "# returns the description of the closest image(s)\n",
    "def get_description(I, descriptions):\n",
    "    closest_descriptions = []\n",
    "    for i in range(len(I[0])):\n",
    "        closest_descriptions.append(descriptions[I[0][i]])\n",
    "\n",
    "    return closest_descriptions"
   ]
  },
  {
   "cell_type": "code",
   "execution_count": null,
   "metadata": {},
   "outputs": [
    {
     "ename": "FileNotFoundError",
     "evalue": "[Errno 2] No such file or directory: 'i'",
     "output_type": "error",
     "traceback": [
      "\u001b[0;31m---------------------------------------------------------------------------\u001b[0m",
      "\u001b[0;31mFileNotFoundError\u001b[0m                         Traceback (most recent call last)",
      "Cell \u001b[0;32mIn[43], line 14\u001b[0m\n\u001b[1;32m     11\u001b[0m             \u001b[38;5;28mprint\u001b[39m(descriptions)\n\u001b[1;32m     13\u001b[0m \u001b[38;5;28;01mif\u001b[39;00m \u001b[38;5;18m__name__\u001b[39m \u001b[38;5;241m==\u001b[39m \u001b[38;5;124m'\u001b[39m\u001b[38;5;124m__main__\u001b[39m\u001b[38;5;124m'\u001b[39m:\n\u001b[0;32m---> 14\u001b[0m     \u001b[43mmain\u001b[49m\u001b[43m(\u001b[49m\u001b[43m)\u001b[49m\n",
      "Cell \u001b[0;32mIn[43], line 4\u001b[0m, in \u001b[0;36mmain\u001b[0;34m()\u001b[0m\n\u001b[1;32m      2\u001b[0m image_paths \u001b[38;5;241m=\u001b[39m [\u001b[38;5;124m\"\u001b[39m\u001b[38;5;124mimages/button_head_screw_isometric.jpg\u001b[39m\u001b[38;5;124m\"\u001b[39m, \u001b[38;5;124m\"\u001b[39m\u001b[38;5;124mimages/mounting_bracket_isometric.jpg\u001b[39m\u001b[38;5;124m\"\u001b[39m]\n\u001b[1;32m      3\u001b[0m \u001b[38;5;28;01mfor\u001b[39;00m image \u001b[38;5;129;01min\u001b[39;00m image_paths:\n\u001b[0;32m----> 4\u001b[0m     img_embedding \u001b[38;5;241m=\u001b[39m \u001b[43mprocess_images\u001b[49m\u001b[43m(\u001b[49m\u001b[43mimage\u001b[49m\u001b[43m)\u001b[49m\n\u001b[1;32m      5\u001b[0m     descriptions \u001b[38;5;241m=\u001b[39m load_descriptions()\n\u001b[1;32m      6\u001b[0m     text_embeddings \u001b[38;5;241m=\u001b[39m embed_descriptions(descriptions)\n",
      "Cell \u001b[0;32mIn[24], line 5\u001b[0m, in \u001b[0;36mprocess_images\u001b[0;34m(image_paths)\u001b[0m\n\u001b[1;32m      3\u001b[0m embeddings \u001b[38;5;241m=\u001b[39m []\n\u001b[1;32m      4\u001b[0m \u001b[38;5;28;01mfor\u001b[39;00m path \u001b[38;5;129;01min\u001b[39;00m image_paths:\n\u001b[0;32m----> 5\u001b[0m     image \u001b[38;5;241m=\u001b[39m \u001b[43mImage\u001b[49m\u001b[38;5;241;43m.\u001b[39;49m\u001b[43mopen\u001b[49m\u001b[43m(\u001b[49m\u001b[43mpath\u001b[49m\u001b[43m)\u001b[49m\n\u001b[1;32m      6\u001b[0m     image_input \u001b[38;5;241m=\u001b[39m preprocess(image)\u001b[38;5;241m.\u001b[39munsqueeze(\u001b[38;5;241m0\u001b[39m)\u001b[38;5;241m.\u001b[39mto(device)\n\u001b[1;32m      7\u001b[0m     \u001b[38;5;28;01mwith\u001b[39;00m torch\u001b[38;5;241m.\u001b[39mno_grad():\n",
      "File \u001b[0;32m~/Library/Mobile Documents/com~apple~CloudDocs/Documents/Leadership-IFSA/feature_prediction/venv/lib/python3.13/site-packages/PIL/Image.py:3465\u001b[0m, in \u001b[0;36mopen\u001b[0;34m(fp, mode, formats)\u001b[0m\n\u001b[1;32m   3462\u001b[0m     filename \u001b[38;5;241m=\u001b[39m os\u001b[38;5;241m.\u001b[39mfspath(fp)\n\u001b[1;32m   3464\u001b[0m \u001b[38;5;28;01mif\u001b[39;00m filename:\n\u001b[0;32m-> 3465\u001b[0m     fp \u001b[38;5;241m=\u001b[39m \u001b[43mbuiltins\u001b[49m\u001b[38;5;241;43m.\u001b[39;49m\u001b[43mopen\u001b[49m\u001b[43m(\u001b[49m\u001b[43mfilename\u001b[49m\u001b[43m,\u001b[49m\u001b[43m \u001b[49m\u001b[38;5;124;43m\"\u001b[39;49m\u001b[38;5;124;43mrb\u001b[39;49m\u001b[38;5;124;43m\"\u001b[39;49m\u001b[43m)\u001b[49m\n\u001b[1;32m   3466\u001b[0m     exclusive_fp \u001b[38;5;241m=\u001b[39m \u001b[38;5;28;01mTrue\u001b[39;00m\n\u001b[1;32m   3467\u001b[0m \u001b[38;5;28;01melse\u001b[39;00m:\n",
      "\u001b[0;31mFileNotFoundError\u001b[0m: [Errno 2] No such file or directory: 'i'"
     ]
    }
   ],
   "source": [
    "def main():\n",
    "    #image_paths = [\"images/button_head_screw_isometric.jpg\"]\n",
    "    image_paths = [\"images/mounting_bracket_isometric.jpg\"]\n",
    "    img_embedding = process_images(image_paths)\n",
    "    descriptions = load_descriptions()\n",
    "    text_embeddings = embed_descriptions(descriptions)\n",
    "    I = find_and_search_nn(img_embedding, text_embeddings)\n",
    "    closest_descriptions = get_description(I, descriptions)\n",
    "    print('The closest description(s) are:')\n",
    "    for descriptions in closest_descriptions:\n",
    "        print(descriptions)\n",
    "\n",
    "if __name__ == '__main__':\n",
    "    main()"
   ]
  }
 ],
 "metadata": {
  "kernelspec": {
   "display_name": "venv",
   "language": "python",
   "name": "python3"
  },
  "language_info": {
   "codemirror_mode": {
    "name": "ipython",
    "version": 3
   },
   "file_extension": ".py",
   "mimetype": "text/x-python",
   "name": "python",
   "nbconvert_exporter": "python",
   "pygments_lexer": "ipython3",
   "version": "3.13.2"
  }
 },
 "nbformat": 4,
 "nbformat_minor": 2
}
