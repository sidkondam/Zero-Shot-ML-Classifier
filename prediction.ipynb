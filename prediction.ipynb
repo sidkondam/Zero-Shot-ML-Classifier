{
 "cells": [
  {
   "cell_type": "code",
   "execution_count": 20,
   "metadata": {},
   "outputs": [],
   "source": [
    "import torch\n",
    "import clip\n",
    "from PIL import Image\n",
    "import pandas as pd\n",
    "import faiss\n",
    "import numpy as np"
   ]
  },
  {
   "cell_type": "code",
   "execution_count": 23,
   "metadata": {},
   "outputs": [],
   "source": [
    "# Load the pre-trained CLIP model and its preprocessing pipeline\n",
    "device = \"cuda\" if torch.cuda.is_available() else \"cpu\"\n",
    "model, preprocess = clip.load(\"ViT-B/32\", device=device)"
   ]
  },
  {
   "cell_type": "code",
   "execution_count": null,
   "metadata": {},
   "outputs": [],
   "source": [
    "# process each of the images and then extract the embeddings from it\n",
    "def process_images(image_paths):\n",
    "    embeddings = []\n",
    "    for path in image_paths:\n",
    "        image = Image.open(path)\n",
    "\n",
    "        # preprocesses the image, adds another\n",
    "        image_input = preprocess(image).unsqueeze(0).to(device)\n",
    "\n",
    "        # we don't calcuate gradients when doing inference\n",
    "        with torch.no_grad():\n",
    "            embedding = model.encode_image(image_input)\n",
    "        embeddings.append(embedding)\n",
    "\n",
    "    img_embedding = torch.mean(torch.stack(embeddings), dim=0)\n",
    "    return img_embedding.cpu().numpy()"
   ]
  },
  {
   "cell_type": "code",
   "execution_count": 25,
   "metadata": {},
   "outputs": [],
   "source": [
    "# load the feature descriptions from data.csv\n",
    "def load_descriptions():\n",
    "    df = pd.read_csv('data.csv')\n",
    "    descriptions = df['description'].tolist()\n",
    "    return descriptions"
   ]
  },
  {
   "cell_type": "code",
   "execution_count": null,
   "metadata": {},
   "outputs": [],
   "source": [
    "def embed_descriptions(descriptions):\n",
    "    text_embeddings = []\n",
    "    for description in descriptions:\n",
    "        # tokenizes text and converts it into a tensor suitable for the model\n",
    "        text_input = clip.tokenize(description).to(device)\n",
    "        with torch.no_grad():\n",
    "            # generate the text embedding\n",
    "            text_embedding = model.encode_text(text_input)\n",
    "\n",
    "        # converts the tensor to a numpy array for ease of use\n",
    "        text_embeddings.append(text_embedding.cpu().numpy())\n",
    "\n",
    "    # convert text embeddings to a numpy array\n",
    "    text_embeddings = np.vstack(text_embeddings)\n",
    "    return text_embeddings "
   ]
  },
  {
   "cell_type": "code",
   "execution_count": null,
   "metadata": {},
   "outputs": [],
   "source": [
    "# finds the nearest neighbor of the image embedding in the text embeddings\n",
    "def find_and_search_nn(img_embedding, text_embeddings):\n",
    "\n",
    "    # index uses L2 (euclidean distance) with the dimension of the text embeddings\n",
    "    index = faiss.IndexFlatL2(text_embeddings.shape[1])\n",
    "    index.add(text_embeddings)\n",
    "\n",
    "    # Search for the nearest neighbor\n",
    "    # D is 2D Numpy Array of the distance of the nearest neighbors\n",
    "    # I is 2D Numpy Array containing indices of the K nearest neighbors for the N query image embeddings\n",
    "    D, I = index.search(img_embedding, 1)\n",
    "    return I"
   ]
  },
  {
   "cell_type": "code",
   "execution_count": null,
   "metadata": {},
   "outputs": [],
   "source": [
    "# returns the description of the closest image(s)\n",
    "def get_description(I, descriptions):\n",
    "    closest_descriptions = []\n",
    "    for i in range(len(I[0])):\n",
    "        closest_descriptions.append(descriptions[I[0][i]])\n",
    "\n",
    "    return closest_descriptions"
   ]
  },
  {
   "cell_type": "code",
   "execution_count": null,
   "metadata": {},
   "outputs": [
    {
     "name": "stdout",
     "output_type": "stream",
     "text": [
      "The closest description(s) are:\n",
      "Joins electrical enclosures using a pivot latch that provides both security and accessibility.\n",
      "Joins modular assemblies with a blend of latches and clips for flexible construction.\n",
      "Fastens modules using a combination of rivets and snap-fit connectors to balance support and ease of use.\n",
      "Fastens housings using a quick-release lever that provides rapid access for service.\n",
      "Secures units with a sliding dovetail connector that ensures smooth alignment.\n",
      "Secures interior components using modular mounting brackets for versatile assembly.\n",
      "Holds assemblies together with spring-loaded clips that allow rapid disassembly.\n",
      "Fastens gear assemblies with precision hex screws optimized for accurate torque control.\n",
      "Retains components using interlocking snap rings for a secure yet removable connection.\n",
      "Joins elements with a bayonet coupling system engineered for a secure attachment.\n"
     ]
    }
   ],
   "source": [
    "def main():\n",
    "    #image_paths = [\"images/button_head_screw_isometric.jpg\"]\n",
    "    image_paths = [\"images/mounting_bracket_isometric.jpg\"]\n",
    "    img_embedding = process_images(image_paths)\n",
    "    descriptions = load_descriptions()\n",
    "    text_embeddings = embed_descriptions(descriptions)\n",
    "    I = find_and_search_nn(img_embedding, text_embeddings)\n",
    "    closest_descriptions = get_description(I, descriptions)\n",
    "    print('The closest description(s) are:')\n",
    "    for descriptions in closest_descriptions:\n",
    "        print(descriptions)\n",
    "\n",
    "\n",
    "if __name__ == '__main__':\n",
    "    main()"
   ]
  }
 ],
 "metadata": {
  "kernelspec": {
   "display_name": "venv",
   "language": "python",
   "name": "python3"
  },
  "language_info": {
   "codemirror_mode": {
    "name": "ipython",
    "version": 3
   },
   "file_extension": ".py",
   "mimetype": "text/x-python",
   "name": "python",
   "nbconvert_exporter": "python",
   "pygments_lexer": "ipython3",
   "version": "3.13.2"
  }
 },
 "nbformat": 4,
 "nbformat_minor": 2
}
