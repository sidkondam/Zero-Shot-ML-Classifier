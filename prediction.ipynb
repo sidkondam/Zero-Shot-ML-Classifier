{
 "cells": [
  {
   "cell_type": "code",
   "execution_count": 11,
   "metadata": {},
   "outputs": [],
   "source": [
    "import torch\n",
    "import clip\n",
    "from PIL import Image\n",
    "import pandas as pd\n",
    "import faiss\n",
    "import numpy as np"
   ]
  },
  {
   "cell_type": "code",
   "execution_count": 12,
   "metadata": {},
   "outputs": [],
   "source": [
    "# Load the pre-trained CLIP model and its preprocessing pipeline\n",
    "device = \"cuda\" if torch.cuda.is_available() else \"cpu\"\n",
    "model, preprocess = clip.load(\"ViT-B/32\", device=device)"
   ]
  },
  {
   "cell_type": "code",
   "execution_count": 14,
   "metadata": {},
   "outputs": [],
   "source": [
    "# Define a function to process image and extract embeddings\n",
    "def process_image(image_paths):\n",
    "    # Process each image and extract its embedding\n",
    "    embeddings = []\n",
    "    for path in image_paths:\n",
    "        image = Image.open(path)\n",
    "        # converts the image into a tensor format the model can process \n",
    "        image_input = preprocess(image).unsqueeze(0).to(device)\n",
    "        with torch.no_grad():\n",
    "            embedding = model.encode_image(image_input)\n",
    "        embeddings.append(embedding)\n",
    "\n",
    "    # Combine the embeddings by averaging the values of the views \n",
    "    img_embedding = torch.mean(torch.stack(embeddings), dim=0)\n",
    "    return img_embedding\n",
    "\n"
   ]
  },
  {
   "cell_type": "code",
   "execution_count": 15,
   "metadata": {},
   "outputs": [],
   "source": [
    "# Load the descriptions from data.csv\n",
    "def load_descriptions():\n",
    "    df = pd.read_csv('data.csv')\n",
    "    descriptions = df['description'].tolist()\n",
    "    return descriptions\n",
    "\n",
    "# Encode the descriptions using the CLIP model\n",
    "def encode_descriptions(descriptions):\n",
    "    text_embeddings = []\n",
    "    for description in descriptions:\n",
    "        # convert the description into a tensor format the model can process\n",
    "        text_input = clip.tokenize(description).to(device)\n",
    "        with torch.no_grad():\n",
    "            text_embedding = model.encode_text(text_input)\n",
    "            \n",
    "        text_embeddings.append(text_embedding.cpu().numpy())\n",
    "\n",
    "    # Convert text embeddings to a numpy array\n",
    "    text_embeddings = np.vstack(text_embeddings)\n",
    "    return text_embeddings"
   ]
  },
  {
   "cell_type": "code",
   "execution_count": 21,
   "metadata": {},
   "outputs": [],
   "source": [
    "# Use FAISS to find and search for the nearest neighbor\n",
    "def find_and_search_nn(text_embeddings, img_embedding):\n",
    "    # Use FAISS to find the nearest neighbor\n",
    "    index = faiss.IndexFlatL2(text_embeddings.shape[1])\n",
    "    index.add(text_embeddings)\n",
    "\n",
    "    # Search for the nearest neighbor\n",
    "    img_embedding_np = img_embedding.cpu().numpy()\n",
    "\n",
    "    # distances is a 2D NumPy array containing distances to the neighbors \n",
    "    # indices is a 2D NumPy array containing the indices of the neighbors\n",
    "    distances, indices = index.search(img_embedding_np, 1)\n",
    "    return indices"
   ]
  },
  {
   "cell_type": "code",
   "execution_count": 22,
   "metadata": {},
   "outputs": [],
   "source": [
    "# Get the closest description\n",
    "def get_description(descriptions, indices):\n",
    "    closest_description = descriptions[indices[0][0]]\n",
    "    print(f'The closest description is: {closest_description}')"
   ]
  },
  {
   "cell_type": "code",
   "execution_count": 23,
   "metadata": {},
   "outputs": [
    {
     "name": "stdout",
     "output_type": "stream",
     "text": [
      "The closest description is: Retains components using interlocking snap rings for a secure yet removable connection.\n"
     ]
    }
   ],
   "source": [
    "def main():\n",
    "    image_paths = [\"images/button_head_screw_bottom.jpg\", \n",
    "                   \"images/button_head_screw_front.jpg\", \n",
    "                   \"images/button_head_screw_isometric.jpg\", \n",
    "                   \"images/button_head_screw_top.jpg\"]\n",
    "    \n",
    "    img_embedding = process_image(image_paths)\n",
    "    descriptions = load_descriptions()\n",
    "    text_embeddings = encode_descriptions(descriptions)\n",
    "    indices = find_and_search_nn(text_embeddings, img_embedding)\n",
    "    get_description(descriptions, indices)\n",
    "\n",
    "if __name__ == \"__main__\":\n",
    "    main()"
   ]
  }
 ],
 "metadata": {
  "kernelspec": {
   "display_name": "venv",
   "language": "python",
   "name": "python3"
  },
  "language_info": {
   "codemirror_mode": {
    "name": "ipython",
    "version": 3
   },
   "file_extension": ".py",
   "mimetype": "text/x-python",
   "name": "python",
   "nbconvert_exporter": "python",
   "pygments_lexer": "ipython3",
   "version": "3.13.2"
  }
 },
 "nbformat": 4,
 "nbformat_minor": 2
}
